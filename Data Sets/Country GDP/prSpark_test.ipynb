{
 "cells": [
  {
   "cell_type": "code",
   "execution_count": 1,
   "metadata": {},
   "outputs": [],
   "source": [
    "from pyspark.sql import SparkSession\n",
    "import pyspark.sql.types as T\n",
    "import pyspark.sql.functions as F"
   ]
  },
  {
   "cell_type": "code",
   "execution_count": 2,
   "metadata": {},
   "outputs": [
    {
     "name": "stderr",
     "output_type": "stream",
     "text": [
      "Setting default log level to \"WARN\".\n",
      "To adjust logging level use sc.setLogLevel(newLevel). For SparkR, use setLogLevel(newLevel).\n"
     ]
    },
    {
     "name": "stdout",
     "output_type": "stream",
     "text": [
      "22/12/09 10:39:41 WARN NativeCodeLoader: Unable to load native-hadoop library for your platform... using builtin-java classes where applicable\n"
     ]
    }
   ],
   "source": [
    "spark = SparkSession.builder.appName('GDP').getOrCreate()"
   ]
  },
  {
   "cell_type": "code",
   "execution_count": 3,
   "metadata": {},
   "outputs": [],
   "source": [
    "df = spark.read.csv('countries of the world.csv', inferSchema = True, header=True)"
   ]
  },
  {
   "cell_type": "code",
   "execution_count": 4,
   "metadata": {},
   "outputs": [
    {
     "name": "stdout",
     "output_type": "stream",
     "text": [
      "+---------------+--------------------+----------+--------------+--------------------------+----------------------------+-------------+----------------------------------+------------------+------------+-----------------+----------+---------+---------+-------+---------+---------+-----------+--------+-------+\n",
      "|        Country|              Region|Population|Area (sq. mi.)|Pop. Density (per sq. mi.)|Coastline (coast/area ratio)|Net migration|Infant mortality (per 1000 births)|GDP ($ per capita)|Literacy (%)|Phones (per 1000)|Arable (%)|Crops (%)|Other (%)|Climate|Birthrate|Deathrate|Agriculture|Industry|Service|\n",
      "+---------------+--------------------+----------+--------------+--------------------------+----------------------------+-------------+----------------------------------+------------------+------------+-----------------+----------+---------+---------+-------+---------+---------+-----------+--------+-------+\n",
      "|   Afghanistan |ASIA (EX. NEAR EA...|  31056997|        647500|                      48,0|                        0,00|        23,06|                            163,07|               700|        36,0|              3,2|     12,13|     0,22|    87,65|      1|     46,6|    20,34|       0,38|    0,24|   0,38|\n",
      "|       Albania |EASTERN EUROPE   ...|   3581655|         28748|                     124,6|                        1,26|        -4,93|                             21,52|              4500|        86,5|             71,2|     21,09|     4,42|    74,49|      3|    15,11|     5,22|      0,232|   0,188|  0,579|\n",
      "|       Algeria |NORTHERN AFRICA  ...|  32930091|       2381740|                      13,8|                        0,04|        -0,39|                                31|              6000|        70,0|             78,1|      3,22|     0,25|    96,53|      1|    17,14|     4,61|      0,101|     0,6|  0,298|\n",
      "|American Samoa |OCEANIA          ...|     57794|           199|                     290,4|                       58,29|       -20,71|                              9,27|              8000|        97,0|            259,5|        10|       15|       75|      2|    22,46|     3,27|       null|    null|   null|\n",
      "|       Andorra |WESTERN EUROPE   ...|     71201|           468|                     152,1|                        0,00|          6,6|                              4,05|             19000|       100,0|            497,2|      2,22|        0|    97,78|      3|     8,71|     6,25|       null|    null|   null|\n",
      "+---------------+--------------------+----------+--------------+--------------------------+----------------------------+-------------+----------------------------------+------------------+------------+-----------------+----------+---------+---------+-------+---------+---------+-----------+--------+-------+\n",
      "only showing top 5 rows\n",
      "\n"
     ]
    }
   ],
   "source": [
    "df.show(5)"
   ]
  },
  {
   "cell_type": "code",
   "execution_count": 5,
   "metadata": {},
   "outputs": [
    {
     "name": "stdout",
     "output_type": "stream",
     "text": [
      "root\n",
      " |-- Country: string (nullable = true)\n",
      " |-- Region: string (nullable = true)\n",
      " |-- Population: integer (nullable = true)\n",
      " |-- Area (sq. mi.): integer (nullable = true)\n",
      " |-- Pop. Density (per sq. mi.): string (nullable = true)\n",
      " |-- Coastline (coast/area ratio): string (nullable = true)\n",
      " |-- Net migration: string (nullable = true)\n",
      " |-- Infant mortality (per 1000 births): string (nullable = true)\n",
      " |-- GDP ($ per capita): integer (nullable = true)\n",
      " |-- Literacy (%): string (nullable = true)\n",
      " |-- Phones (per 1000): string (nullable = true)\n",
      " |-- Arable (%): string (nullable = true)\n",
      " |-- Crops (%): string (nullable = true)\n",
      " |-- Other (%): string (nullable = true)\n",
      " |-- Climate: string (nullable = true)\n",
      " |-- Birthrate: string (nullable = true)\n",
      " |-- Deathrate: string (nullable = true)\n",
      " |-- Agriculture: string (nullable = true)\n",
      " |-- Industry: string (nullable = true)\n",
      " |-- Service: string (nullable = true)\n",
      "\n"
     ]
    },
    {
     "name": "stderr",
     "output_type": "stream",
     "text": [
      "                                                                                \r"
     ]
    },
    {
     "name": "stdout",
     "output_type": "stream",
     "text": [
      "+-------+------------+--------------------+--------------------+------------------+--------------------------+----------------------------+--------------------+----------------------------------+------------------+------------+-----------------+------------------+------------------+------------------+------------------+------------------+---------+-----------+--------+-------+\n",
      "|summary|     Country|              Region|          Population|    Area (sq. mi.)|Pop. Density (per sq. mi.)|Coastline (coast/area ratio)|       Net migration|Infant mortality (per 1000 births)|GDP ($ per capita)|Literacy (%)|Phones (per 1000)|        Arable (%)|         Crops (%)|         Other (%)|           Climate|         Birthrate|Deathrate|Agriculture|Industry|Service|\n",
      "+-------+------------+--------------------+--------------------+------------------+--------------------------+----------------------------+--------------------+----------------------------------+------------------+------------+-----------------+------------------+------------------+------------------+------------------+------------------+---------+-----------+--------+-------+\n",
      "|  count|         227|                 227|                 227|               227|                       227|                         227|                 224|                               224|               226|         209|              223|               225|               225|               225|               205|               224|      223|        212|     211|    212|\n",
      "|   mean|        null|                null|2.8740284365638766E7| 598226.9559471365|                      null|                        null|0.031746031746031744|                              56.5| 9689.823008849558|        null|             null| 8.842105263157896|1.9090909090909092| 86.57894736842105|2.1597938144329896|              21.0|     22.0|        0.0|    null|   null|\n",
      "| stddev|        null|                null|1.1789132654347657E8|1790282.2437336047|                      null|                        null|  0.2519763153394848|                 36.78314831549904|10049.138513197226|        null|             null|10.128415242358372| 5.954849055410831|14.633734958321792|0.7054429092420468|11.853269591129697|     null|       null|    null|   null|\n",
      "|    min|Afghanistan |ASIA (EX. NEAR EA...|                7026|                 2|                       0,0|                        0,00|               -0,02|                             10,03|               500|       100,0|              0,2|                 0|                 0|               100|                 1|                10|    10,01|          0|    0,02|  0,062|\n",
      "|    max|   Zimbabwe |WESTERN EUROPE   ...|          1313973713|          17075200|                      99,9|                       92,31|                9,61|                              98,8|             55100|        99,9|             97,7|              9,75|              9,87|             99,98|                 4|              9,95|     9,89|      0,769|   0,906|  0,954|\n",
      "+-------+------------+--------------------+--------------------+------------------+--------------------------+----------------------------+--------------------+----------------------------------+------------------+------------+-----------------+------------------+------------------+------------------+------------------+------------------+---------+-----------+--------+-------+\n",
      "\n"
     ]
    }
   ],
   "source": [
    "# Schema and basic details\n",
    "df.printSchema()\n",
    "df.describe().show()"
   ]
  },
  {
   "cell_type": "code",
   "execution_count": 6,
   "metadata": {},
   "outputs": [
    {
     "data": {
      "text/plain": [
       "227"
      ]
     },
     "execution_count": 6,
     "metadata": {},
     "output_type": "execute_result"
    }
   ],
   "source": [
    "df.na.drop(subset='Phones (per 1000)').count()\n",
    "df.count()"
   ]
  },
  {
   "cell_type": "code",
   "execution_count": 7,
   "metadata": {},
   "outputs": [
    {
     "name": "stdout",
     "output_type": "stream",
     "text": [
      "+---------------+-----------------+\n",
      "|        Country|Phones (per 1000)|\n",
      "+---------------+-----------------+\n",
      "|   Afghanistan |              3,2|\n",
      "|       Albania |             71,2|\n",
      "|       Algeria |             78,1|\n",
      "|American Samoa |            259,5|\n",
      "|       Andorra |            497,2|\n",
      "+---------------+-----------------+\n",
      "only showing top 5 rows\n",
      "\n"
     ]
    }
   ],
   "source": [
    "df.select(['Country', 'Phones (per 1000)']).show(5)"
   ]
  },
  {
   "cell_type": "code",
   "execution_count": 8,
   "metadata": {},
   "outputs": [
    {
     "name": "stdout",
     "output_type": "stream",
     "text": [
      "+--------------------+\n",
      "|              Region|\n",
      "+--------------------+\n",
      "|BALTICS          ...|\n",
      "|C.W. OF IND. STATES |\n",
      "|ASIA (EX. NEAR EA...|\n",
      "|WESTERN EUROPE   ...|\n",
      "|NORTHERN AMERICA ...|\n",
      "|NEAR EAST        ...|\n",
      "|EASTERN EUROPE   ...|\n",
      "|OCEANIA          ...|\n",
      "|SUB-SAHARAN AFRIC...|\n",
      "|NORTHERN AFRICA  ...|\n",
      "|LATIN AMER. & CAR...|\n",
      "+--------------------+\n",
      "\n"
     ]
    }
   ],
   "source": [
    "# Select the distinct Region\n",
    "df.select(['Region']).distinct().show()"
   ]
  },
  {
   "cell_type": "code",
   "execution_count": 9,
   "metadata": {},
   "outputs": [
    {
     "name": "stdout",
     "output_type": "stream",
     "text": [
      "+--------------------+-----+\n",
      "|              Region|count|\n",
      "+--------------------+-----+\n",
      "|BALTICS          ...|    3|\n",
      "|C.W. OF IND. STATES |   12|\n",
      "|ASIA (EX. NEAR EA...|   28|\n",
      "|WESTERN EUROPE   ...|   28|\n",
      "|NORTHERN AMERICA ...|    5|\n",
      "|NEAR EAST        ...|   16|\n",
      "|EASTERN EUROPE   ...|   12|\n",
      "|OCEANIA          ...|   21|\n",
      "|SUB-SAHARAN AFRIC...|   51|\n",
      "|NORTHERN AFRICA  ...|    6|\n",
      "|LATIN AMER. & CAR...|   45|\n",
      "+--------------------+-----+\n",
      "\n"
     ]
    }
   ],
   "source": [
    "# Sum of Population by Region\n",
    "df.groupBy('Region').count().show()"
   ]
  },
  {
   "cell_type": "code",
   "execution_count": 10,
   "metadata": {},
   "outputs": [
    {
     "name": "stdout",
     "output_type": "stream",
     "text": [
      "+--------------------+----------------+--------------------+------------------+\n",
      "|              Region|Total population|  Average Population|Avg Gdp per capita|\n",
      "+--------------------+----------------+--------------------+------------------+\n",
      "|WESTERN EUROPE   ...|       396339998| 1.415499992857143E7|27046.428571428572|\n",
      "|NORTHERN AMERICA ...|       331672307|        6.63344614E7|           26100.0|\n",
      "|BALTICS          ...|         7184974|  2394991.3333333335|           11300.0|\n",
      "|NEAR EAST        ...|       195068377|     1.21917735625E7|          10456.25|\n",
      "|EASTERN EUROPE   ...|       119914717|   9992893.083333334| 9808.333333333334|\n",
      "|LATIN AMER. & CAR...|       561824599| 1.248499108888889E7| 8682.222222222223|\n",
      "|OCEANIA          ...|        33131662|  1577698.1904761905| 8247.619047619048|\n",
      "|ASIA (EX. NEAR EA...|      3687982236|1.3171365128571428E8| 8053.571428571428|\n",
      "|NORTHERN AFRICA  ...|       161407133|2.6901188833333332E7|            5460.0|\n",
      "|C.W. OF IND. STATES |       280081548|         2.3340129E7|            4000.0|\n",
      "|SUB-SAHARAN AFRIC...|       749437000|1.4694843137254901E7| 2323.529411764706|\n",
      "+--------------------+----------------+--------------------+------------------+\n",
      "\n"
     ]
    }
   ],
   "source": [
    "groupCols = ['Region']\n",
    "gdpByRegion = df.groupBy(groupCols).agg(F.sum('Population').alias('Total population'), \n",
    "                                        F.avg('Population').alias('Average Population'), \n",
    "                                        F.avg('GDP ($ per capita)').alias('Avg Gdp per capita'))\n",
    "df2 = gdpByRegion.orderBy(['Avg Gdp per capita', 'Total population'], ascending=[0, 1])\n",
    "df2.show()"
   ]
  },
  {
   "cell_type": "code",
   "execution_count": 19,
   "metadata": {},
   "outputs": [
    {
     "name": "stdout",
     "output_type": "stream",
     "text": [
      "+--------------------+----------------+--------------------+------------------+--------------------+\n",
      "|              Region|Total population|  Average Population|Avg Gdp per capita|              If_col|\n",
      "+--------------------+----------------+--------------------+------------------+--------------------+\n",
      "|WESTERN EUROPE   ...|       396339998| 1.415499992857143E7|27046.428571428572|More than World A...|\n",
      "|NORTHERN AMERICA ...|       331672307|        6.63344614E7|           26100.0|More than World A...|\n",
      "|BALTICS          ...|         7184974|  2394991.3333333335|           11300.0|Less than world a...|\n",
      "|NEAR EAST        ...|       195068377|     1.21917735625E7|          10456.25|More than World A...|\n",
      "|EASTERN EUROPE   ...|       119914717|   9992893.083333334| 9808.333333333334|More than World A...|\n",
      "|LATIN AMER. & CAR...|       561824599| 1.248499108888889E7| 8682.222222222223|More than World A...|\n",
      "|OCEANIA          ...|        33131662|  1577698.1904761905| 8247.619047619048|More than World A...|\n",
      "|ASIA (EX. NEAR EA...|      3687982236|1.3171365128571428E8| 8053.571428571428|More than World A...|\n",
      "|NORTHERN AFRICA  ...|       161407133|2.6901188833333332E7|            5460.0|More than World A...|\n",
      "|C.W. OF IND. STATES |       280081548|         2.3340129E7|            4000.0|More than World A...|\n",
      "|SUB-SAHARAN AFRIC...|       749437000|1.4694843137254901E7| 2323.529411764706|More than World A...|\n",
      "+--------------------+----------------+--------------------+------------------+--------------------+\n",
      "\n"
     ]
    }
   ],
   "source": [
    "\n",
    "# df3 = df2.withColumn(\"lit_value2\", when(col(\"Salary\") >=40000 & col(\"Salary\") <= 50000,lit(\"100\")).otherwise(lit(\"200\")))\n",
    "# df3.show(truncate=False)\n",
    "\n",
    "\n",
    "avg_world_population = df.agg(F.mean('Population')).collect()[0][0]\n",
    "\n",
    "df2.withColumn('If_col', F.when(F.col('Total Population') > avg_world_population, F.lit('More than World Average')).otherwise(F.lit('Less than world average'))).show()"
   ]
  },
  {
   "cell_type": "code",
   "execution_count": null,
   "metadata": {},
   "outputs": [],
   "source": []
  },
  {
   "cell_type": "code",
   "execution_count": null,
   "metadata": {},
   "outputs": [],
   "source": []
  }
 ],
 "metadata": {
  "kernelspec": {
   "display_name": "Python 3.11.0 64-bit",
   "language": "python",
   "name": "python3"
  },
  "language_info": {
   "codemirror_mode": {
    "name": "ipython",
    "version": 3
   },
   "file_extension": ".py",
   "mimetype": "text/x-python",
   "name": "python",
   "nbconvert_exporter": "python",
   "pygments_lexer": "ipython3",
   "version": "3.11.0 (v3.11.0:deaf509e8f, Oct 24 2022, 14:43:23) [Clang 13.0.0 (clang-1300.0.29.30)]"
  },
  "orig_nbformat": 4,
  "vscode": {
   "interpreter": {
    "hash": "aee8b7b246df8f9039afb4144a1f6fd8d2ca17a180786b69acc140d282b71a49"
   }
  }
 },
 "nbformat": 4,
 "nbformat_minor": 2
}
