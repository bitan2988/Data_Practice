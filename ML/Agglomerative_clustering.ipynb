{
 "cells": [
  {
   "cell_type": "code",
   "execution_count": null,
   "metadata": {},
   "outputs": [],
   "source": [
    "from pyspark.shell import spark\n",
    "from pyspark.ml.feature import VectorAssembler\n",
    "from pyspark.ml.feature import Normalizer\n",
    "from pyspark.ml.linalg import DenseVector\n",
    "from pyspark.ml.feature import SQLTransformer\n",
    "import pyspark.sql.functions as F\n",
    "from pyspark.ml.clustering import AgglomerativeClustering\n",
    "from pyspark.ml.linalg import DenseVector, Vectors\n",
    "from pyspark.sql import SparkSession\n",
    "\n",
    "file = 'data/insurance.csv'\n",
    "data = spark.read.csv(file, inferSchema=True, header=True)\n",
    "\n",
    "assembler = VectorAssembler(inputCols=data.columns, outputCol='features')\n",
    "assembledData = assembler.transform(data).select('features')\n",
    "\n",
    "# Assembled features\n",
    "normalizer = Normalizer(inputCol=\"features\", outputCol=\"normalized_features\")\n",
    "normalizedData = normalizer.transform(assembledData)\n",
    "\n",
    "# Calculate Euclidean distance\n",
    "sql_transformer = SQLTransformer(statement=\"SELECT a.id AS pointA, b.id AS pointB, SQRT(POW(a.normalized_features[0] - b.normalized_features[0], 2) + POW(a.normalized_features[1] - b.normalized_features[1], 2) + ...) AS dissimilarity FROM __THIS__ a CROSS JOIN __THIS__ b WHERE a.id <> b.id\")\n",
    "dissimilarity_matrix = sql_transformer.transform(normalizedData).select(\"pointA\", \"pointB\", \"dissimilarity\")\n",
    "\n",
    "dissimilarity_matrix = dissimilarity_matrix.pivot(\"pointA\", \"pointB\").agg(F.first(\"dissimilarity\")).orderBy(\"pointA\")\n",
    "\n",
    "# Assuming you have a dissimilarity matrix as a DataFrame called 'dissimilarityMatrix'\n",
    "# The dissimilarity matrix should have 'pointA', 'pointB', and 'dissimilarity' columns\n",
    "# representing the pairwise dissimilarities between data points\n",
    "\n",
    "# Convert the dissimilarity matrix to a vector column\n",
    "dissimilarityMatrix = dissimilarity_matrix.withColumn(\"dissimilarity_vector\", Vectors.dense(dissimilarity_matrix[\"dissimilarity\"]))\n",
    "\n",
    "# Create an instance of AgglomerativeClustering\n",
    "agglomerative = AgglomerativeClustering().setFeaturesCol(\"dissimilarity_vector\")\n",
    "\n",
    "# Fit the model to the dissimilarity matrix\n",
    "model = agglomerative.fit(dissimilarityMatrix)\n",
    "\n",
    "# Obtain the predicted cluster labels for the dissimilarity matrix\n",
    "predictions = model.transform(dissimilarityMatrix)\n",
    "\n",
    "# Show the predicted cluster labels\n",
    "predictions.select(\"prediction\").show()\n"
   ]
  }
 ],
 "metadata": {
  "language_info": {
   "name": "python"
  },
  "orig_nbformat": 4
 },
 "nbformat": 4,
 "nbformat_minor": 2
}
