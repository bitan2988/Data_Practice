{
 "cells": [
  {
   "cell_type": "code",
   "execution_count": 1,
   "metadata": {},
   "outputs": [],
   "source": [
    "import pyspark\n",
    "\n",
    "from pyspark.sql import SparkSession\n",
    "from pyspark.sql import Row\n",
    "from pyspark import SparkContext\n",
    "import pyspark.sql.functions as F\n",
    "import pyspark.sql.types as  T"
   ]
  },
  {
   "cell_type": "code",
   "execution_count": 14,
   "metadata": {},
   "outputs": [],
   "source": [
    "# dir(T)\n",
    "# dir(F)"
   ]
  },
  {
   "cell_type": "code",
   "execution_count": 2,
   "metadata": {},
   "outputs": [
    {
     "name": "stderr",
     "output_type": "stream",
     "text": [
      "Setting default log level to \"WARN\".\n",
      "To adjust logging level use sc.setLogLevel(newLevel). For SparkR, use setLogLevel(newLevel).\n"
     ]
    },
    {
     "name": "stdout",
     "output_type": "stream",
     "text": [
      "22/11/27 21:06:45 WARN NativeCodeLoader: Unable to load native-hadoop library for your platform... using builtin-java classes where applicable\n"
     ]
    }
   ],
   "source": [
    "spark = SparkSession.builder.appName('practice1').getOrCreate()"
   ]
  },
  {
   "cell_type": "code",
   "execution_count": 3,
   "metadata": {},
   "outputs": [
    {
     "data": {
      "text/html": [
       "\n",
       "            <div>\n",
       "                <p><b>SparkSession - in-memory</b></p>\n",
       "                \n",
       "        <div>\n",
       "            <p><b>SparkContext</b></p>\n",
       "\n",
       "            <p><a href=\"http://192.168.0.103:4040\">Spark UI</a></p>\n",
       "\n",
       "            <dl>\n",
       "              <dt>Version</dt>\n",
       "                <dd><code>v3.3.1</code></dd>\n",
       "              <dt>Master</dt>\n",
       "                <dd><code>local[*]</code></dd>\n",
       "              <dt>AppName</dt>\n",
       "                <dd><code>practice1</code></dd>\n",
       "            </dl>\n",
       "        </div>\n",
       "        \n",
       "            </div>\n",
       "        "
      ],
      "text/plain": [
       "<pyspark.sql.session.SparkSession at 0x107cf2c70>"
      ]
     },
     "execution_count": 3,
     "metadata": {},
     "output_type": "execute_result"
    }
   ],
   "source": [
    "spark"
   ]
  },
  {
   "cell_type": "code",
   "execution_count": 5,
   "metadata": {},
   "outputs": [],
   "source": [
    "df_spark = spark.read.csv('marketing_campaign.csv',header=True, inferSchema=True)"
   ]
  },
  {
   "cell_type": "code",
   "execution_count": 45,
   "metadata": {},
   "outputs": [
    {
     "data": {
      "text/plain": [
       "pyspark.sql.dataframe.DataFrame"
      ]
     },
     "execution_count": 45,
     "metadata": {},
     "output_type": "execute_result"
    }
   ],
   "source": [
    "type(df_spark)"
   ]
  },
  {
   "cell_type": "code",
   "execution_count": 18,
   "metadata": {},
   "outputs": [],
   "source": [
    "# Since the first header is not correct we will not use the first row as header as of now\n",
    "df_spark = spark.read.csv('marketing_campaign.csv', inferSchema=True)"
   ]
  },
  {
   "cell_type": "code",
   "execution_count": 19,
   "metadata": {},
   "outputs": [
    {
     "name": "stdout",
     "output_type": "stream",
     "text": [
      "+--------------------+\n",
      "|                 _c0|\n",
      "+--------------------+\n",
      "|ID\\tYear_Birth\\tE...|\n",
      "|5524\\t1957\\tGradu...|\n",
      "|2174\\t1954\\tGradu...|\n",
      "|4141\\t1965\\tGradu...|\n",
      "|6182\\t1984\\tGradu...|\n",
      "+--------------------+\n",
      "only showing top 5 rows\n",
      "\n"
     ]
    }
   ],
   "source": [
    "df_spark.show(5)"
   ]
  },
  {
   "cell_type": "code",
   "execution_count": 7,
   "metadata": {},
   "outputs": [
    {
     "name": "stdout",
     "output_type": "stream",
     "text": [
      "root\n",
      " |-- ID\\tYear_Birth\\tEducation\\tMarital_Status\\tIncome\\tKidhome\\tTeenhome\\tDt_Customer\\tRecency\\tMntWines\\tMntFruits\\tMntMeatProducts\\tMntFishProducts\\tMntSweetProducts\\tMntGoldProds\\tNumDealsPurchases\\tNumWebPurchases\\tNumCatalogPurchases\\tNumStorePurchases\\tNumWebVisitsMonth\\tAcceptedCmp3\\tAcceptedCmp4\\tAcceptedCmp5\\tAcceptedCmp1\\tAcceptedCmp2\\tComplain\\tZ_CostContact\\tZ_Revenue\\tResponse: string (nullable = true)\n",
      "\n"
     ]
    },
    {
     "data": {
      "text/plain": [
       "[('ID\\tYear_Birth\\tEducation\\tMarital_Status\\tIncome\\tKidhome\\tTeenhome\\tDt_Customer\\tRecency\\tMntWines\\tMntFruits\\tMntMeatProducts\\tMntFishProducts\\tMntSweetProducts\\tMntGoldProds\\tNumDealsPurchases\\tNumWebPurchases\\tNumCatalogPurchases\\tNumStorePurchases\\tNumWebVisitsMonth\\tAcceptedCmp3\\tAcceptedCmp4\\tAcceptedCmp5\\tAcceptedCmp1\\tAcceptedCmp2\\tComplain\\tZ_CostContact\\tZ_Revenue\\tResponse',\n",
       "  'string')]"
      ]
     },
     "execution_count": 7,
     "metadata": {},
     "output_type": "execute_result"
    }
   ],
   "source": [
    "df_spark.printSchema()\n",
    "\n",
    "df_spark.dtypes"
   ]
  },
  {
   "cell_type": "code",
   "execution_count": null,
   "metadata": {},
   "outputs": [],
   "source": [
    "# Splitting the data to change our dataset\n",
    "chnged_data = []\n",
    "for row in df_spark.rdd.collect():\n",
    "    data = str(row._c0)\n",
    "    splittedData = data.split('\\t')\n",
    "    chnged_data.append(splittedData)\n",
    "    # print(row._c0)\n",
    "    # print(type(row))"
   ]
  },
  {
   "cell_type": "code",
   "execution_count": null,
   "metadata": {},
   "outputs": [],
   "source": [
    "# print(chnged_data)\n",
    "colSplit = chnged_data[0]\n",
    "chnged_data = chnged_data[1:]\n",
    "print(colSplit)"
   ]
  },
  {
   "cell_type": "code",
   "execution_count": 40,
   "metadata": {},
   "outputs": [],
   "source": [
    "changedData = spark.createDataFrame(chnged_data, colSplit)"
   ]
  },
  {
   "cell_type": "code",
   "execution_count": 42,
   "metadata": {},
   "outputs": [
    {
     "name": "stdout",
     "output_type": "stream",
     "text": [
      "+----+----------+----------+--------------+------+-------+--------+-----------+-------+--------+---------+---------------+---------------+----------------+------------+-----------------+---------------+-------------------+-----------------+-----------------+------------+------------+------------+------------+------------+--------+-------------+---------+--------+\n",
      "|  ID|Year_Birth| Education|Marital_Status|Income|Kidhome|Teenhome|Dt_Customer|Recency|MntWines|MntFruits|MntMeatProducts|MntFishProducts|MntSweetProducts|MntGoldProds|NumDealsPurchases|NumWebPurchases|NumCatalogPurchases|NumStorePurchases|NumWebVisitsMonth|AcceptedCmp3|AcceptedCmp4|AcceptedCmp5|AcceptedCmp1|AcceptedCmp2|Complain|Z_CostContact|Z_Revenue|Response|\n",
      "+----+----------+----------+--------------+------+-------+--------+-----------+-------+--------+---------+---------------+---------------+----------------+------------+-----------------+---------------+-------------------+-----------------+-----------------+------------+------------+------------+------------+------------+--------+-------------+---------+--------+\n",
      "|5524|      1957|Graduation|        Single| 58138|      0|       0| 04-09-2012|     58|     635|       88|            546|            172|              88|          88|                3|              8|                 10|                4|                7|           0|           0|           0|           0|           0|       0|            3|       11|       1|\n",
      "|2174|      1954|Graduation|        Single| 46344|      1|       1| 08-03-2014|     38|      11|        1|              6|              2|               1|           6|                2|              1|                  1|                2|                5|           0|           0|           0|           0|           0|       0|            3|       11|       0|\n",
      "+----+----------+----------+--------------+------+-------+--------+-----------+-------+--------+---------+---------------+---------------+----------------+------------+-----------------+---------------+-------------------+-----------------+-----------------+------------+------------+------------+------------+------------+--------+-------------+---------+--------+\n",
      "only showing top 2 rows\n",
      "\n"
     ]
    }
   ],
   "source": [
    "changedData.show(2)"
   ]
  },
  {
   "cell_type": "code",
   "execution_count": 8,
   "metadata": {},
   "outputs": [],
   "source": [
    "# Another way to splait the columns\n",
    "df_spark.columns\n",
    "\n",
    "col = df_spark.columns[0]\n",
    "splittedCols = col.split('\\t')"
   ]
  },
  {
   "cell_type": "code",
   "execution_count": 46,
   "metadata": {},
   "outputs": [
    {
     "data": {
      "text/plain": [
       "pyspark.sql.dataframe.DataFrame"
      ]
     },
     "execution_count": 46,
     "metadata": {},
     "output_type": "execute_result"
    }
   ],
   "source": [
    "type(changedData)"
   ]
  },
  {
   "cell_type": "code",
   "execution_count": 43,
   "metadata": {},
   "outputs": [],
   "source": [
    "df_spark = changedData"
   ]
  },
  {
   "cell_type": "code",
   "execution_count": 44,
   "metadata": {},
   "outputs": [
    {
     "data": {
      "text/plain": [
       "list"
      ]
     },
     "execution_count": 44,
     "metadata": {},
     "output_type": "execute_result"
    }
   ],
   "source": [
    "type(df_spark.columns)"
   ]
  },
  {
   "cell_type": "code",
   "execution_count": 47,
   "metadata": {},
   "outputs": [
    {
     "name": "stdout",
     "output_type": "stream",
     "text": [
      "+----+----------+----------+--------------+------+-------+--------+-----------+-------+--------+---------+---------------+---------------+----------------+------------+-----------------+---------------+-------------------+-----------------+-----------------+------------+------------+------------+------------+------------+--------+-------------+---------+--------+\n",
      "|  ID|Year_Birth| Education|Marital_Status|Income|Kidhome|Teenhome|Dt_Customer|Recency|MntWines|MntFruits|MntMeatProducts|MntFishProducts|MntSweetProducts|MntGoldProds|NumDealsPurchases|NumWebPurchases|NumCatalogPurchases|NumStorePurchases|NumWebVisitsMonth|AcceptedCmp3|AcceptedCmp4|AcceptedCmp5|AcceptedCmp1|AcceptedCmp2|Complain|Z_CostContact|Z_Revenue|Response|\n",
      "+----+----------+----------+--------------+------+-------+--------+-----------+-------+--------+---------+---------------+---------------+----------------+------------+-----------------+---------------+-------------------+-----------------+-----------------+------------+------------+------------+------------+------------+--------+-------------+---------+--------+\n",
      "|5524|      1957|Graduation|        Single| 58138|      0|       0| 04-09-2012|     58|     635|       88|            546|            172|              88|          88|                3|              8|                 10|                4|                7|           0|           0|           0|           0|           0|       0|            3|       11|       1|\n",
      "|2174|      1954|Graduation|        Single| 46344|      1|       1| 08-03-2014|     38|      11|        1|              6|              2|               1|           6|                2|              1|                  1|                2|                5|           0|           0|           0|           0|           0|       0|            3|       11|       0|\n",
      "|4141|      1965|Graduation|      Together| 71613|      0|       0| 21-08-2013|     26|     426|       49|            127|            111|              21|          42|                1|              8|                  2|               10|                4|           0|           0|           0|           0|           0|       0|            3|       11|       0|\n",
      "|6182|      1984|Graduation|      Together| 26646|      1|       0| 10-02-2014|     26|      11|        4|             20|             10|               3|           5|                2|              2|                  0|                4|                6|           0|           0|           0|           0|           0|       0|            3|       11|       0|\n",
      "|5324|      1981|       PhD|       Married| 58293|      1|       0| 19-01-2014|     94|     173|       43|            118|             46|              27|          15|                5|              5|                  3|                6|                5|           0|           0|           0|           0|           0|       0|            3|       11|       0|\n",
      "+----+----------+----------+--------------+------+-------+--------+-----------+-------+--------+---------+---------------+---------------+----------------+------------+-----------------+---------------+-------------------+-----------------+-----------------+------------+------------+------------+------------+------------+--------+-------------+---------+--------+\n",
      "only showing top 5 rows\n",
      "\n"
     ]
    }
   ],
   "source": [
    "df_spark.show(5)"
   ]
  },
  {
   "cell_type": "code",
   "execution_count": 48,
   "metadata": {},
   "outputs": [
    {
     "data": {
      "text/plain": [
       "DataFrame[ID: string, Year_Birth: string]"
      ]
     },
     "execution_count": 48,
     "metadata": {},
     "output_type": "execute_result"
    }
   ],
   "source": [
    "df_spark.select(['ID', 'Year_Birth'])"
   ]
  },
  {
   "cell_type": "code",
   "execution_count": 49,
   "metadata": {},
   "outputs": [
    {
     "name": "stderr",
     "output_type": "stream",
     "text": [
      "                                                                                \r"
     ]
    },
    {
     "name": "stdout",
     "output_type": "stream",
     "text": [
      "+-------+-----------------+------------------+---------+--------------+------------------+-------------------+------------------+-----------+-----------------+------------------+------------------+------------------+-----------------+-----------------+-----------------+-----------------+-----------------+-------------------+------------------+-----------------+-------------------+-------------------+-------------------+-------------------+--------------------+-------------------+-------------+---------+-------------------+\n",
      "|summary|               ID|        Year_Birth|Education|Marital_Status|            Income|            Kidhome|          Teenhome|Dt_Customer|          Recency|          MntWines|         MntFruits|   MntMeatProducts|  MntFishProducts| MntSweetProducts|     MntGoldProds|NumDealsPurchases|  NumWebPurchases|NumCatalogPurchases| NumStorePurchases|NumWebVisitsMonth|       AcceptedCmp3|       AcceptedCmp4|       AcceptedCmp5|       AcceptedCmp1|        AcceptedCmp2|           Complain|Z_CostContact|Z_Revenue|           Response|\n",
      "+-------+-----------------+------------------+---------+--------------+------------------+-------------------+------------------+-----------+-----------------+------------------+------------------+------------------+-----------------+-----------------+-----------------+-----------------+-----------------+-------------------+------------------+-----------------+-------------------+-------------------+-------------------+-------------------+--------------------+-------------------+-------------+---------+-------------------+\n",
      "|  count|             2240|              2240|     2240|          2240|              2240|               2240|              2240|       2240|             2240|              2240|              2240|              2240|             2240|             2240|             2240|             2240|             2240|               2240|              2240|             2240|               2240|               2240|               2240|               2240|                2240|               2240|         2240|     2240|               2240|\n",
      "|   mean|5592.159821428571|1968.8058035714287|     null|          null| 52247.25135379061|0.44419642857142855|           0.50625|       null|        49.109375| 303.9357142857143|26.302232142857143|            166.95|37.52544642857143|27.06294642857143|        44.021875|            2.325|4.084821428571429| 2.6620535714285714| 5.790178571428571|5.316517857142857|0.07276785714285715|0.07455357142857143|0.07276785714285715|0.06428571428571428|0.013392857142857142|           0.009375|          3.0|     11.0|0.14910714285714285|\n",
      "| stddev| 3246.66219756434|11.984069456885818|     null|          null|25173.076660901403| 0.5383980977345935|0.5445382307698758|       null|28.96245280837821|336.59739260537174|39.773433764578556|225.71537251175357|54.62897940287808|41.28049848785493|52.16743891499733|1.932237500855979|2.778714147388102|  2.923100655539746|3.2509581456744328|2.426645009547286|0.25981306992189507| 0.2627282848535613|0.25981306992189507|0.24531597433401417| 0.11497560625548411|0.09639116794449754|          0.0|      0.0| 0.3562735864084793|\n",
      "|    min|                0|              1893| 2n Cycle|        Absurd|                  |                  0|                 0| 01-01-2013|                0|                 0|                 0|                 0|                0|                0|                0|                0|                0|                  0|                 0|                0|                  0|                  0|                  0|                  0|                   0|                  0|            3|       11|                  0|\n",
      "|    max|             9999|              1996|      PhD|          YOLO|             98777|                  2|                 2| 31-12-2013|               99|               997|                99|                99|               99|               99|               99|                9|                9|                  9|                 9|                9|                  1|                  1|                  1|                  1|                   1|                  1|            3|       11|                  1|\n",
      "+-------+-----------------+------------------+---------+--------------+------------------+-------------------+------------------+-----------+-----------------+------------------+------------------+------------------+-----------------+-----------------+-----------------+-----------------+-----------------+-------------------+------------------+-----------------+-------------------+-------------------+-------------------+-------------------+--------------------+-------------------+-------------+---------+-------------------+\n",
      "\n"
     ]
    }
   ],
   "source": [
    "df_spark.describe()\n",
    "df_spark.describe().show()"
   ]
  },
  {
   "cell_type": "code",
   "execution_count": 50,
   "metadata": {},
   "outputs": [],
   "source": [
    "# Adding new column\n",
    "df_spark = df_spark.withColumn('Year_Birth after 2 year', df_spark['Year_Birth']+2)"
   ]
  },
  {
   "cell_type": "code",
   "execution_count": 52,
   "metadata": {},
   "outputs": [],
   "source": [
    "# Dropping a column\n",
    "df_spark = df_spark.drop('Year_Birth after 2 years')"
   ]
  },
  {
   "cell_type": "code",
   "execution_count": null,
   "metadata": {},
   "outputs": [],
   "source": [
    "# Renaming a column\n",
    "df_spark = df_spark.withColumnRenamed('Name', 'New Name')"
   ]
  },
  {
   "cell_type": "code",
   "execution_count": null,
   "metadata": {},
   "outputs": [],
   "source": []
  },
  {
   "cell_type": "code",
   "execution_count": 7,
   "metadata": {},
   "outputs": [],
   "source": [
    "countriesDf = spark.read.csv('../Data Sets/Country GDP/countries of the world.csv', header=True)"
   ]
  },
  {
   "cell_type": "code",
   "execution_count": 8,
   "metadata": {},
   "outputs": [
    {
     "name": "stdout",
     "output_type": "stream",
     "text": [
      "+---------------+--------------------+----------+--------------+--------------------------+----------------------------+-------------+----------------------------------+------------------+------------+-----------------+----------+---------+---------+-------+---------+---------+-----------+--------+-------+\n",
      "|        Country|              Region|Population|Area (sq. mi.)|Pop. Density (per sq. mi.)|Coastline (coast/area ratio)|Net migration|Infant mortality (per 1000 births)|GDP ($ per capita)|Literacy (%)|Phones (per 1000)|Arable (%)|Crops (%)|Other (%)|Climate|Birthrate|Deathrate|Agriculture|Industry|Service|\n",
      "+---------------+--------------------+----------+--------------+--------------------------+----------------------------+-------------+----------------------------------+------------------+------------+-----------------+----------+---------+---------+-------+---------+---------+-----------+--------+-------+\n",
      "|   Afghanistan |ASIA (EX. NEAR EA...|  31056997|        647500|                      48,0|                        0,00|        23,06|                            163,07|               700|        36,0|              3,2|     12,13|     0,22|    87,65|      1|     46,6|    20,34|       0,38|    0,24|   0,38|\n",
      "|       Albania |EASTERN EUROPE   ...|   3581655|         28748|                     124,6|                        1,26|        -4,93|                             21,52|              4500|        86,5|             71,2|     21,09|     4,42|    74,49|      3|    15,11|     5,22|      0,232|   0,188|  0,579|\n",
      "|       Algeria |NORTHERN AFRICA  ...|  32930091|       2381740|                      13,8|                        0,04|        -0,39|                                31|              6000|        70,0|             78,1|      3,22|     0,25|    96,53|      1|    17,14|     4,61|      0,101|     0,6|  0,298|\n",
      "|American Samoa |OCEANIA          ...|     57794|           199|                     290,4|                       58,29|       -20,71|                              9,27|              8000|        97,0|            259,5|        10|       15|       75|      2|    22,46|     3,27|       null|    null|   null|\n",
      "|       Andorra |WESTERN EUROPE   ...|     71201|           468|                     152,1|                        0,00|          6,6|                              4,05|             19000|       100,0|            497,2|      2,22|        0|    97,78|      3|     8,71|     6,25|       null|    null|   null|\n",
      "+---------------+--------------------+----------+--------------+--------------------------+----------------------------+-------------+----------------------------------+------------------+------------+-----------------+----------+---------+---------+-------+---------+---------+-----------+--------+-------+\n",
      "only showing top 5 rows\n",
      "\n"
     ]
    }
   ],
   "source": [
    "countriesDf.show(5)"
   ]
  },
  {
   "cell_type": "code",
   "execution_count": 9,
   "metadata": {},
   "outputs": [
    {
     "name": "stdout",
     "output_type": "stream",
     "text": [
      "root\n",
      " |-- Country: string (nullable = true)\n",
      " |-- Region: string (nullable = true)\n",
      " |-- Population: string (nullable = true)\n",
      " |-- Area (sq. mi.): string (nullable = true)\n",
      " |-- Pop. Density (per sq. mi.): string (nullable = true)\n",
      " |-- Coastline (coast/area ratio): string (nullable = true)\n",
      " |-- Net migration: string (nullable = true)\n",
      " |-- Infant mortality (per 1000 births): string (nullable = true)\n",
      " |-- GDP ($ per capita): string (nullable = true)\n",
      " |-- Literacy (%): string (nullable = true)\n",
      " |-- Phones (per 1000): string (nullable = true)\n",
      " |-- Arable (%): string (nullable = true)\n",
      " |-- Crops (%): string (nullable = true)\n",
      " |-- Other (%): string (nullable = true)\n",
      " |-- Climate: string (nullable = true)\n",
      " |-- Birthrate: string (nullable = true)\n",
      " |-- Deathrate: string (nullable = true)\n",
      " |-- Agriculture: string (nullable = true)\n",
      " |-- Industry: string (nullable = true)\n",
      " |-- Service: string (nullable = true)\n",
      "\n"
     ]
    }
   ],
   "source": [
    "countriesDf.printSchema()"
   ]
  },
  {
   "cell_type": "code",
   "execution_count": 11,
   "metadata": {},
   "outputs": [
    {
     "data": {
      "text/plain": [
       "<bound method DataFrame.describe of DataFrame[Country: string, Region: string, Population: string, Area (sq. mi.): string, Pop. Density (per sq. mi.): string, Coastline (coast/area ratio): string, Net migration: string, Infant mortality (per 1000 births): string, GDP ($ per capita): string, Literacy (%): string, Phones (per 1000): string, Arable (%): string, Crops (%): string, Other (%): string, Climate: string, Birthrate: string, Deathrate: string, Agriculture: string, Industry: string, Service: string]>"
      ]
     },
     "execution_count": 11,
     "metadata": {},
     "output_type": "execute_result"
    }
   ],
   "source": [
    "countriesDf.describe"
   ]
  },
  {
   "cell_type": "code",
   "execution_count": null,
   "metadata": {},
   "outputs": [],
   "source": []
  }
 ],
 "metadata": {
  "kernelspec": {
   "display_name": "Python 3.9.6 64-bit",
   "language": "python",
   "name": "python3"
  },
  "language_info": {
   "codemirror_mode": {
    "name": "ipython",
    "version": 3
   },
   "file_extension": ".py",
   "mimetype": "text/x-python",
   "name": "python",
   "nbconvert_exporter": "python",
   "pygments_lexer": "ipython3",
   "version": "3.9.6"
  },
  "orig_nbformat": 4,
  "vscode": {
   "interpreter": {
    "hash": "31f2aee4e71d21fbe5cf8b01ff0e069b9275f58929596ceb00d14d90e3e16cd6"
   }
  }
 },
 "nbformat": 4,
 "nbformat_minor": 2
}
