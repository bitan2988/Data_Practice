{
 "cells": [
  {
   "cell_type": "code",
   "execution_count": 1,
   "metadata": {},
   "outputs": [],
   "source": [
    "from pyspark.sql import SparkSession"
   ]
  },
  {
   "cell_type": "code",
   "execution_count": 2,
   "metadata": {},
   "outputs": [
    {
     "name": "stderr",
     "output_type": "stream",
     "text": [
      "Setting default log level to \"WARN\".\n",
      "To adjust logging level use sc.setLogLevel(newLevel). For SparkR, use setLogLevel(newLevel).\n"
     ]
    },
    {
     "name": "stdout",
     "output_type": "stream",
     "text": [
      "22/11/16 21:50:06 WARN NativeCodeLoader: Unable to load native-hadoop library for your platform... using builtin-java classes where applicable\n",
      "22/11/16 21:50:07 WARN Utils: Service 'SparkUI' could not bind on port 4040. Attempting port 4041.\n"
     ]
    }
   ],
   "source": [
    "spark = SparkSession.builder.appName('practise2').getOrCreate()"
   ]
  },
  {
   "cell_type": "code",
   "execution_count": 13,
   "metadata": {},
   "outputs": [],
   "source": [
    "df = spark.read.csv('practice_dataset.csv', header=True, inferSchema=True)"
   ]
  },
  {
   "cell_type": "code",
   "execution_count": 17,
   "metadata": {},
   "outputs": [
    {
     "name": "stdout",
     "output_type": "stream",
     "text": [
      "+-------+-----+----------------+------------------+------------------+\n",
      "|summary| Name|             Age|        Experience|            Salary|\n",
      "+-------+-----+----------------+------------------+------------------+\n",
      "|  count|    7|               8|                 7|                 8|\n",
      "|   mean| null|            33.0| 5.428571428571429|           32375.0|\n",
      "| stddev| null|9.16515138991168|3.8234863173611093|26885.670639102267|\n",
      "|    min|Harsh|              19|                 1|              1000|\n",
      "|    max|Sunny|              45|                10|             90000|\n",
      "+-------+-----+----------------+------------------+------------------+\n",
      "\n"
     ]
    }
   ],
   "source": [
    "df\n",
    "df.describe().show()"
   ]
  },
  {
   "cell_type": "code",
   "execution_count": 14,
   "metadata": {},
   "outputs": [
    {
     "name": "stdout",
     "output_type": "stream",
     "text": [
      "+--------+---+----------+------+\n",
      "|    Name|Age|Experience|Salary|\n",
      "+--------+---+----------+------+\n",
      "|   Irish| 31|        10| 30000|\n",
      "|Sudhansu| 30|         8| 20000|\n",
      "|   Sunny| 24|         4| 30000|\n",
      "|    Paul| 36|         3| 40000|\n",
      "|   Harsh| 19|         1| 10000|\n",
      "+--------+---+----------+------+\n",
      "only showing top 5 rows\n",
      "\n"
     ]
    }
   ],
   "source": [
    "df.show(5)"
   ]
  },
  {
   "cell_type": "code",
   "execution_count": 24,
   "metadata": {},
   "outputs": [
    {
     "name": "stdout",
     "output_type": "stream",
     "text": [
      "+--------+----+----------+------+-----------------+\n",
      "|    Name| Age|Experience|Salary|ExperiencePlusTwo|\n",
      "+--------+----+----------+------+-----------------+\n",
      "|   Irish|  31|        10| 30000|               12|\n",
      "|Sudhansu|  30|         8| 20000|               10|\n",
      "|   Sunny|  24|         4| 30000|                6|\n",
      "|    Paul|  36|         3| 40000|                5|\n",
      "|   Harsh|  19|         1| 10000|                3|\n",
      "|  Subham|  45|         2| 90000|                4|\n",
      "|  Mahesh|null|      null|  1000|             null|\n",
      "|    null|  34|        10| 38000|               12|\n",
      "|    null|  45|      null|  null|             null|\n",
      "+--------+----+----------+------+-----------------+\n",
      "\n"
     ]
    }
   ],
   "source": [
    "# Adding column\n",
    "df = df.withColumn('ExperiencePlusTwo', df['Experience']+2)\n",
    "df.show()"
   ]
  },
  {
   "cell_type": "code",
   "execution_count": null,
   "metadata": {},
   "outputs": [],
   "source": []
  },
  {
   "cell_type": "code",
   "execution_count": null,
   "metadata": {},
   "outputs": [],
   "source": []
  },
  {
   "cell_type": "code",
   "execution_count": null,
   "metadata": {},
   "outputs": [],
   "source": []
  },
  {
   "cell_type": "code",
   "execution_count": null,
   "metadata": {},
   "outputs": [],
   "source": []
  },
  {
   "cell_type": "code",
   "execution_count": null,
   "metadata": {},
   "outputs": [],
   "source": []
  },
  {
   "cell_type": "code",
   "execution_count": null,
   "metadata": {},
   "outputs": [],
   "source": []
  },
  {
   "cell_type": "code",
   "execution_count": null,
   "metadata": {},
   "outputs": [],
   "source": []
  }
 ],
 "metadata": {
  "kernelspec": {
   "display_name": "Python 3.9.6 64-bit",
   "language": "python",
   "name": "python3"
  },
  "language_info": {
   "codemirror_mode": {
    "name": "ipython",
    "version": 3
   },
   "file_extension": ".py",
   "mimetype": "text/x-python",
   "name": "python",
   "nbconvert_exporter": "python",
   "pygments_lexer": "ipython3",
   "version": "3.9.6"
  },
  "orig_nbformat": 4,
  "vscode": {
   "interpreter": {
    "hash": "31f2aee4e71d21fbe5cf8b01ff0e069b9275f58929596ceb00d14d90e3e16cd6"
   }
  }
 },
 "nbformat": 4,
 "nbformat_minor": 2
}
