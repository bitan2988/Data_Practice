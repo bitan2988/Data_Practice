{
 "cells": [
  {
   "cell_type": "code",
   "execution_count": 9,
   "metadata": {},
   "outputs": [],
   "source": [
    "import pandas as pd\n",
    "import requests\n",
    "import json"
   ]
  },
  {
   "cell_type": "code",
   "execution_count": 11,
   "metadata": {},
   "outputs": [],
   "source": [
    "url = 'https://www.alphavantage.co/query'\n",
    "\n",
    "apiKey = 'AD5AW3LKSXM1EDB3'\n",
    "querystring = {\n",
    "    'apikey' : apiKey,\n",
    "    'function' : 'TIME_SERIES_INTRADAY',\n",
    "    'symbol' : 'IBM',\n",
    "    'interval' : '5min'\n",
    "}\n",
    "\n",
    "response = requests.request(\"GET\", url, params=querystring)\n",
    "data = response.json()"
   ]
  },
  {
   "cell_type": "code",
   "execution_count": 15,
   "metadata": {},
   "outputs": [
    {
     "data": {
      "text/html": [
       "<div>\n",
       "<style scoped>\n",
       "    .dataframe tbody tr th:only-of-type {\n",
       "        vertical-align: middle;\n",
       "    }\n",
       "\n",
       "    .dataframe tbody tr th {\n",
       "        vertical-align: top;\n",
       "    }\n",
       "\n",
       "    .dataframe thead th {\n",
       "        text-align: right;\n",
       "    }\n",
       "</style>\n",
       "<table border=\"1\" class=\"dataframe\">\n",
       "  <thead>\n",
       "    <tr style=\"text-align: right;\">\n",
       "      <th></th>\n",
       "      <th>Meta Data.1. Information</th>\n",
       "      <th>Meta Data.2. Symbol</th>\n",
       "      <th>Meta Data.3. Last Refreshed</th>\n",
       "      <th>Meta Data.4. Interval</th>\n",
       "      <th>Meta Data.5. Output Size</th>\n",
       "      <th>Meta Data.6. Time Zone</th>\n",
       "      <th>Time Series (5min).2022-11-21 18:25:00.1. open</th>\n",
       "      <th>Time Series (5min).2022-11-21 18:25:00.2. high</th>\n",
       "      <th>Time Series (5min).2022-11-21 18:25:00.3. low</th>\n",
       "      <th>Time Series (5min).2022-11-21 18:25:00.4. close</th>\n",
       "      <th>...</th>\n",
       "      <th>Time Series (5min).2022-11-18 17:30:00.1. open</th>\n",
       "      <th>Time Series (5min).2022-11-18 17:30:00.2. high</th>\n",
       "      <th>Time Series (5min).2022-11-18 17:30:00.3. low</th>\n",
       "      <th>Time Series (5min).2022-11-18 17:30:00.4. close</th>\n",
       "      <th>Time Series (5min).2022-11-18 17:30:00.5. volume</th>\n",
       "      <th>Time Series (5min).2022-11-18 17:10:00.1. open</th>\n",
       "      <th>Time Series (5min).2022-11-18 17:10:00.2. high</th>\n",
       "      <th>Time Series (5min).2022-11-18 17:10:00.3. low</th>\n",
       "      <th>Time Series (5min).2022-11-18 17:10:00.4. close</th>\n",
       "      <th>Time Series (5min).2022-11-18 17:10:00.5. volume</th>\n",
       "    </tr>\n",
       "  </thead>\n",
       "  <tbody>\n",
       "    <tr>\n",
       "      <th>0</th>\n",
       "      <td>Intraday (5min) open, high, low, close prices ...</td>\n",
       "      <td>IBM</td>\n",
       "      <td>2022-11-21 18:25:00</td>\n",
       "      <td>5min</td>\n",
       "      <td>Compact</td>\n",
       "      <td>US/Eastern</td>\n",
       "      <td>146.6000</td>\n",
       "      <td>146.6000</td>\n",
       "      <td>146.6000</td>\n",
       "      <td>146.6000</td>\n",
       "      <td>...</td>\n",
       "      <td>147.7000</td>\n",
       "      <td>147.7000</td>\n",
       "      <td>147.7000</td>\n",
       "      <td>147.7000</td>\n",
       "      <td>270</td>\n",
       "      <td>147.6001</td>\n",
       "      <td>147.6001</td>\n",
       "      <td>147.6001</td>\n",
       "      <td>147.6001</td>\n",
       "      <td>101</td>\n",
       "    </tr>\n",
       "  </tbody>\n",
       "</table>\n",
       "<p>1 rows × 506 columns</p>\n",
       "</div>"
      ],
      "text/plain": [
       "                            Meta Data.1. Information Meta Data.2. Symbol  \\\n",
       "0  Intraday (5min) open, high, low, close prices ...                 IBM   \n",
       "\n",
       "  Meta Data.3. Last Refreshed Meta Data.4. Interval Meta Data.5. Output Size  \\\n",
       "0         2022-11-21 18:25:00                  5min                  Compact   \n",
       "\n",
       "  Meta Data.6. Time Zone Time Series (5min).2022-11-21 18:25:00.1. open  \\\n",
       "0             US/Eastern                                       146.6000   \n",
       "\n",
       "  Time Series (5min).2022-11-21 18:25:00.2. high  \\\n",
       "0                                       146.6000   \n",
       "\n",
       "  Time Series (5min).2022-11-21 18:25:00.3. low  \\\n",
       "0                                      146.6000   \n",
       "\n",
       "  Time Series (5min).2022-11-21 18:25:00.4. close  ...  \\\n",
       "0                                        146.6000  ...   \n",
       "\n",
       "  Time Series (5min).2022-11-18 17:30:00.1. open  \\\n",
       "0                                       147.7000   \n",
       "\n",
       "  Time Series (5min).2022-11-18 17:30:00.2. high  \\\n",
       "0                                       147.7000   \n",
       "\n",
       "  Time Series (5min).2022-11-18 17:30:00.3. low  \\\n",
       "0                                      147.7000   \n",
       "\n",
       "  Time Series (5min).2022-11-18 17:30:00.4. close  \\\n",
       "0                                        147.7000   \n",
       "\n",
       "  Time Series (5min).2022-11-18 17:30:00.5. volume  \\\n",
       "0                                              270   \n",
       "\n",
       "  Time Series (5min).2022-11-18 17:10:00.1. open  \\\n",
       "0                                       147.6001   \n",
       "\n",
       "  Time Series (5min).2022-11-18 17:10:00.2. high  \\\n",
       "0                                       147.6001   \n",
       "\n",
       "  Time Series (5min).2022-11-18 17:10:00.3. low  \\\n",
       "0                                      147.6001   \n",
       "\n",
       "  Time Series (5min).2022-11-18 17:10:00.4. close  \\\n",
       "0                                        147.6001   \n",
       "\n",
       "  Time Series (5min).2022-11-18 17:10:00.5. volume  \n",
       "0                                              101  \n",
       "\n",
       "[1 rows x 506 columns]"
      ]
     },
     "execution_count": 15,
     "metadata": {},
     "output_type": "execute_result"
    }
   ],
   "source": [
    "df = pd.json_normalize(data)\n",
    "df.head()"
   ]
  },
  {
   "cell_type": "code",
   "execution_count": 19,
   "metadata": {},
   "outputs": [],
   "source": [
    "cols = df.columns\n",
    "sCols = []\n",
    "\n",
    "for i in range(6):\n",
    "    temp = cols[i].split('.')\n",
    "    reqd = temp[-1]\n",
    "    sCols.append(reqd)"
   ]
  },
  {
   "cell_type": "code",
   "execution_count": 20,
   "metadata": {},
   "outputs": [
    {
     "name": "stdout",
     "output_type": "stream",
     "text": [
      "[' Information', ' Symbol', ' Last Refreshed', ' Interval', ' Output Size', ' Time Zone']\n"
     ]
    }
   ],
   "source": [
    "print(sCols)"
   ]
  }
 ],
 "metadata": {
  "kernelspec": {
   "display_name": "Python 3.9.6 64-bit",
   "language": "python",
   "name": "python3"
  },
  "language_info": {
   "codemirror_mode": {
    "name": "ipython",
    "version": 3
   },
   "file_extension": ".py",
   "mimetype": "text/x-python",
   "name": "python",
   "nbconvert_exporter": "python",
   "pygments_lexer": "ipython3",
   "version": "3.9.6"
  },
  "orig_nbformat": 4,
  "vscode": {
   "interpreter": {
    "hash": "31f2aee4e71d21fbe5cf8b01ff0e069b9275f58929596ceb00d14d90e3e16cd6"
   }
  }
 },
 "nbformat": 4,
 "nbformat_minor": 2
}
