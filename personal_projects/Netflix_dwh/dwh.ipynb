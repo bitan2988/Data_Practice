{
 "cells": [
  {
   "cell_type": "code",
   "execution_count": 2,
   "metadata": {},
   "outputs": [],
   "source": [
    "import pandas as pd\n",
    "import psycopg2 as psy"
   ]
  },
  {
   "cell_type": "code",
   "execution_count": null,
   "metadata": {},
   "outputs": [],
   "source": [
    "connection_details = {\n",
    "    \"host\": 'localhost',\n",
    "    \"dbname\": 'bitansarkar',\n",
    "    \"user\": 'bitansarkar',\n",
    "    \"password\": 'bits'\n",
    "}\n",
    "\n",
    "conn = psy.connect()\n",
    "curr = conn.cursor()"
   ]
  },
  {
   "cell_type": "code",
   "execution_count": 3,
   "metadata": {},
   "outputs": [],
   "source": [
    "# BestMovieByYear\n",
    "bmby = pd.read_csv(r'Best Movie by Year Netflix.csv')\n",
    "\n",
    "# Best Movies\n",
    "bm = pd.read_csv(r'Best Movies Netflix.csv')\n",
    "\n",
    "# BestShowByYear\n",
    "bsby = pd.read_csv(r'Best Show by Year Netflix.csv')\n",
    "\n",
    "# Best Show\n",
    "bs = pd.read_csv(r'Best Shows Netflix.csv')\n",
    "\n",
    "# Raw Credits\n",
    "rc = pd.read_csv(r'raw_credits.csv')\n",
    "\n",
    "# Raw Titles\n",
    "rt = pd.read_csv(r'raw_titles.csv')"
   ]
  },
  {
   "cell_type": "code",
   "execution_count": 4,
   "metadata": {},
   "outputs": [],
   "source": [
    "# Reading the table_schema \n",
    "schema = pd.read_csv(r'TABLE_SCHEMA.csv', header=0)\n",
    "\n",
    "cols = ['TableName', 'columnName', 'dType', 'constraint', 'notRequireed']\n",
    "schema.columns = cols"
   ]
  },
  {
   "cell_type": "code",
   "execution_count": 27,
   "metadata": {},
   "outputs": [
    {
     "name": "stdout",
     "output_type": "stream",
     "text": [
      "nan\n"
     ]
    },
    {
     "data": {
      "text/plain": [
       "True"
      ]
     },
     "execution_count": 27,
     "metadata": {},
     "output_type": "execute_result"
    }
   ],
   "source": [
    "print(schema.iloc[1][0])\n",
    "pd.isna(schema.iloc[1][0])"
   ]
  },
  {
   "cell_type": "code",
   "execution_count": 5,
   "metadata": {},
   "outputs": [],
   "source": [
    "table_list = []\n",
    "column_dtype_list = []\n",
    "\n",
    "temp = []\n",
    "for i in range(len(schema)):\n",
    "    if not(pd.isna(schema.iloc[i]['TableName'])):\n",
    "        table_list.append(schema.iloc[i][0])\n",
    "\n",
    "    if pd.isna(schema.iloc[i]['columnName']):\n",
    "        column_dtype_list.append(temp)\n",
    "        temp = []\n",
    "    else:\n",
    "        columnTup = (schema.iloc[i]['columnName'], schema.iloc[i]['dType'])\n",
    "        temp.append(columnTup)\n",
    "\n",
    "column_dtype_list.append(temp)\n"
   ]
  },
  {
   "cell_type": "code",
   "execution_count": 6,
   "metadata": {},
   "outputs": [],
   "source": [
    "tableWiseSchema = {name: schema for name,schema in zip(table_list, column_dtype_list)}"
   ]
  },
  {
   "cell_type": "code",
   "execution_count": 14,
   "metadata": {},
   "outputs": [],
   "source": [
    "createTableList = []\n",
    "\n",
    "for tableName in tableWiseSchema.keys():\n",
    "    sql = f\"CREATE TABLE {tableName} (\"\n",
    "    for cols in tableWiseSchema[tableName]:\n",
    "        sql += f' {cols[0]} '\n",
    "        sql += f' {cols[1]},'\n",
    "    sql = sql[:-1]\n",
    "    sql += ' )'\n",
    "    createTableList.append(sql)"
   ]
  },
  {
   "cell_type": "code",
   "execution_count": null,
   "metadata": {},
   "outputs": [],
   "source": []
  },
  {
   "cell_type": "code",
   "execution_count": null,
   "metadata": {},
   "outputs": [],
   "source": []
  },
  {
   "cell_type": "code",
   "execution_count": null,
   "metadata": {},
   "outputs": [],
   "source": []
  },
  {
   "cell_type": "code",
   "execution_count": null,
   "metadata": {},
   "outputs": [],
   "source": []
  }
 ],
 "metadata": {
  "kernelspec": {
   "display_name": "Python 3",
   "language": "python",
   "name": "python3"
  },
  "language_info": {
   "codemirror_mode": {
    "name": "ipython",
    "version": 3
   },
   "file_extension": ".py",
   "mimetype": "text/x-python",
   "name": "python",
   "nbconvert_exporter": "python",
   "pygments_lexer": "ipython3",
   "version": "3.11.0 (v3.11.0:deaf509e8f, Oct 24 2022, 14:43:23) [Clang 13.0.0 (clang-1300.0.29.30)]"
  },
  "orig_nbformat": 4,
  "vscode": {
   "interpreter": {
    "hash": "8a5edab282632443219e051e4ade2d1d5bbc671c781051bf1437897cbdfea0f1"
   }
  }
 },
 "nbformat": 4,
 "nbformat_minor": 2
}
