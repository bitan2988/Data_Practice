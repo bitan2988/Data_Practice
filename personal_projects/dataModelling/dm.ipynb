{
 "cells": [
  {
   "cell_type": "code",
   "execution_count": 32,
   "metadata": {},
   "outputs": [],
   "source": [
    "import pandas as pd\n",
    "import psycopg2 as psy"
   ]
  },
  {
   "cell_type": "code",
   "execution_count": 33,
   "metadata": {},
   "outputs": [],
   "source": [
    "# Reading the dataset\n",
    "df = pd.read_csv(r'../dataModelling/Covide_DS/country_wise_latest.csv')\n",
    "df.head(5)\n",
    "\n",
    "df.describe()  # Basic aggregations\n",
    "\n",
    "df.info()  # Print Schema"
   ]
  },
  {
   "cell_type": "code",
   "execution_count": 34,
   "metadata": {},
   "outputs": [],
   "source": [
    "# Some countries have a ' in their name \n",
    "for i in range(len(df)):\n",
    "    if str(df.iloc[i]['Country/Region']).find(\"'\") != -1:\n",
    "        newVal = str(df.iloc[i]['Country/Region']).replace(\"'\", \"''\")\n",
    "        df.at[i, 'Country/Region'] = newVal"
   ]
  },
  {
   "cell_type": "code",
   "execution_count": 35,
   "metadata": {},
   "outputs": [],
   "source": [
    "# Change the inf cells to NULL\n",
    "cols = df.columns\n",
    "\n",
    "for i in range(len(df)):\n",
    "    for col in cols:\n",
    "        if str(df.iloc[i][col]) == 'inf':\n",
    "            df.at[i, col] = 'NULL'"
   ]
  },
  {
   "cell_type": "code",
   "execution_count": 13,
   "metadata": {},
   "outputs": [],
   "source": [
    "# making seperate tables out of the data\n",
    "country = df[['Country/Region', 'WHO Region']]\n",
    "\n",
    "currSituation = df[['Country/Region', 'Confirmed', 'Deaths', 'Recovered', 'Active']]\n",
    "\n",
    "weekChange = df[['Country/Region', 'Confirmed last week', '1 week change', '1 week % increase']]\n",
    "\n",
    "newData = df[['Country/Region', 'New cases', 'New deaths', 'New recovered']]\n",
    "\n",
    "perHundredData = df[['Country/Region', 'Deaths / 100 Cases', 'Recovered / 100 Cases', 'Deaths / 100 Recovered']]"
   ]
  },
  {
   "cell_type": "code",
   "execution_count": 14,
   "metadata": {},
   "outputs": [],
   "source": [
    "# Connect to dataBase \n",
    "def connect(connData):\n",
    "    try:\n",
    "        conn = psy.connect(f\"host={connData['host']} dbname={connData['dbname']} user={connData['user']} password={connData['password']}\")\n",
    "        print(f'Connected to DB: {connData[\"dbname\"]} .......')\n",
    "    except psy.Error as e:\n",
    "        print('ERROR: Unable to establish a Connection!!!')\n",
    "        print(e)\n",
    "    \n",
    "    if conn:\n",
    "        try:\n",
    "            cur = conn.cursor()  # Creating cursor to execure commands\n",
    "            conn.set_session(autocommit=True) # Setting autoCommit\n",
    "        except psy.Error as e:\n",
    "            print(f'ERROR: {e}')\n",
    "            cur = None\n",
    "\n",
    "        if cur:\n",
    "            return conn, cur\n",
    "        \n",
    "    "
   ]
  },
  {
   "cell_type": "code",
   "execution_count": 68,
   "metadata": {},
   "outputs": [
    {
     "name": "stdout",
     "output_type": "stream",
     "text": [
      "Connected to DB: bitansarkar .......\n"
     ]
    }
   ],
   "source": [
    "connData = {\n",
    "    'host': '127.0.0.1',\n",
    "    'dbname': 'bitansarkar',\n",
    "    'user': 'bitansarkar',\n",
    "    'password': 'bits'\n",
    "}\n",
    "\n",
    "conn, cur = connect(connData)"
   ]
  },
  {
   "cell_type": "code",
   "execution_count": 73,
   "metadata": {},
   "outputs": [
    {
     "name": "stdout",
     "output_type": "stream",
     "text": [
      "database \"covid_data\" already exists\n",
      "\n"
     ]
    }
   ],
   "source": [
    "# Creating a new Database \n",
    "try:\n",
    "    cur.execute(\"CREATE DATABASE covid_data\")\n",
    "    print('Database created ...')\n",
    "except psy.Error as e:\n",
    "    print(e)"
   ]
  },
  {
   "cell_type": "code",
   "execution_count": 74,
   "metadata": {},
   "outputs": [],
   "source": [
    "# Closing the current connection\n",
    "try:\n",
    "    conn.close()\n",
    "except psy.Error as e:\n",
    "    print(e)"
   ]
  },
  {
   "cell_type": "code",
   "execution_count": 16,
   "metadata": {},
   "outputs": [
    {
     "name": "stdout",
     "output_type": "stream",
     "text": [
      "Connected to DB: covid_data .......\n"
     ]
    }
   ],
   "source": [
    "connData = {\n",
    "    'host': '127.0.0.1',\n",
    "    'dbname': 'covid_data',\n",
    "    'user': 'bitansarkar',\n",
    "    'password': 'bits'\n",
    "}\n",
    "\n",
    "conn, cur = connect(connData)"
   ]
  },
  {
   "cell_type": "code",
   "execution_count": 28,
   "metadata": {},
   "outputs": [],
   "source": [
    "tableSchema = {\n",
    "     'country': '( country varchar(200), WHO_region varchar(200))'\n",
    "    ,'curr_situation': '( country varchar(200), Confirmed int, Deaths int, Recovered int, Active int)'\n",
    "    ,'week_change': '( country varchar(200), Confirmed_lw int, week_chanhe int, percent_increase numeric(15,8))'\n",
    "    ,'new_data': '( country varchar(200), new_cases int, new_deaths int, new_ecovered int)'\n",
    "    ,'ph_data': '( country varchar(200), Deaths_PerHundred numeric(15,8), Recovered_PH numeric(15,8), Deaths_PH_Recovered numeric(15,8))'\n",
    "}"
   ]
  },
  {
   "cell_type": "code",
   "execution_count": 29,
   "metadata": {},
   "outputs": [
    {
     "name": "stdout",
     "output_type": "stream",
     "text": [
      "Table created Successfully ..\n",
      "Table created Successfully ..\n",
      "Table created Successfully ..\n",
      "Table created Successfully ..\n",
      "Table created Successfully ..\n"
     ]
    }
   ],
   "source": [
    "# Create table from table list\n",
    "for tableName, schema in tableSchema.items():\n",
    "    sql = f'CREATE TABLE IF NOT EXISTS {tableName} {schema}'\n",
    "    try:\n",
    "        cur.execute(sql)\n",
    "        print('Table created Successfully ..')\n",
    "    except psy.Error as e:\n",
    "        print(e)"
   ]
  },
  {
   "cell_type": "code",
   "execution_count": 30,
   "metadata": {},
   "outputs": [],
   "source": [
    "# Populating Data into the tables from the DataFrame\n",
    "sqlCountry = 'INSERT INTO country VALUES'\n",
    "sqlCS = 'INSERT INTO curr_situation VALUES'\n",
    "sqlWC = 'INSERT INTO week_change VALUES'\n",
    "sqlND = 'INSERT INTO new_data VALUES'\n",
    "sqlPD = 'INSERT INTO ph_data VALUES'\n",
    "\n",
    "for i in range(len(country)):\n",
    "    sqlCountry += f\" ('{country.iloc[i]['Country/Region']}', '{country.iloc[i]['WHO Region']}'),\"\n",
    "    sqlCS += f\" ('{currSituation.iloc[i]['Country/Region']}', {currSituation.iloc[i]['Confirmed']}, {currSituation.iloc[i]['Deaths']}, {currSituation.iloc[i]['Recovered']}, {currSituation.iloc[i]['Active']}),\"\n",
    "    sqlWC += f\" ('{weekChange.iloc[i]['Country/Region']}', {weekChange.iloc[i]['Confirmed last week']}, {weekChange.iloc[i]['1 week change']}, {weekChange.iloc[i]['1 week % increase']}),\"\n",
    "    sqlND += f\" ('{newData.iloc[i]['Country/Region']}', {newData.iloc[i]['New cases']}, {newData.iloc[i]['New deaths']}, {newData.iloc[i]['New recovered']}),\"\n",
    "    sqlPD += f\" ('{perHundredData.iloc[i]['Country/Region']}', {perHundredData.iloc[i]['Deaths / 100 Cases']}, {perHundredData.iloc[i]['Recovered / 100 Cases']}, {perHundredData.iloc[i]['Deaths / 100 Recovered']}),\"\n",
    "\n",
    "sqlCountry = sqlCountry[:-1]\n",
    "sqlCS = sqlCS[:-1]\n",
    "sqlWC = sqlWC[:-1]\n",
    "sqlND = sqlND[:-1] \n",
    "sqlPD = sqlPD[:-1]"
   ]
  },
  {
   "cell_type": "code",
   "execution_count": 20,
   "metadata": {},
   "outputs": [],
   "source": [
    "def executeSQL(cur, sql):\n",
    "    try:\n",
    "        cur.execute(sql)\n",
    "        print('Successfully Executed')\n",
    "    except psy.Error as e:\n",
    "        print(e)"
   ]
  },
  {
   "cell_type": "code",
   "execution_count": null,
   "metadata": {},
   "outputs": [],
   "source": [
    "# Inserting all the data\n",
    "executeSQL(cur, sqlCountry)\n",
    "executeSQL(cur, sqlCS)\n",
    "executeSQL(cur, sqlWC)\n",
    "executeSQL(cur, sqlND)\n",
    "executeSQL(cur, sqlPD)"
   ]
  },
  {
   "cell_type": "code",
   "execution_count": 27,
   "metadata": {},
   "outputs": [
    {
     "name": "stdout",
     "output_type": "stream",
     "text": [
      "Successfully Executed\n",
      "Successfully Executed\n",
      "Successfully Executed\n",
      "Successfully Executed\n",
      "Successfully Executed\n"
     ]
    }
   ],
   "source": [
    "# Drop \n",
    "def dropAllTables(cur):\n",
    "    try:\n",
    "        executeSQL(cur, 'DROP TABLE country')\n",
    "        executeSQL(cur, 'DROP TABLE curr_situation')\n",
    "        executeSQL(cur, 'DROP TABLE week_change')\n",
    "        executeSQL(cur, 'DROP TABLE new_data')\n",
    "        executeSQL(cur, 'DROP TABLE ph_data')\n",
    "    except psy.Error as e:\n",
    "        print(e)\n",
    "\n",
    "dropAllTables(cur)"
   ]
  },
  {
   "cell_type": "code",
   "execution_count": 26,
   "metadata": {},
   "outputs": [
    {
     "name": "stdout",
     "output_type": "stream",
     "text": [
      "Successfully Executed\n",
      "Successfully Executed\n",
      "Successfully Executed\n",
      "Successfully Executed\n",
      "Successfully Executed\n"
     ]
    }
   ],
   "source": [
    "# Truncate \n",
    "def truncateAllTables(cur):\n",
    "    try:\n",
    "        executeSQL(cur, 'TRUNCATE TABLE country')\n",
    "        executeSQL(cur, 'TRUNCATE TABLE curr_situation')\n",
    "        executeSQL(cur, 'TRUNCATE TABLE week_change')\n",
    "        executeSQL(cur, 'TRUNCATE TABLE new_data')\n",
    "        executeSQL(cur, 'TRUNCATE TABLE ph_data')\n",
    "    except psy.Error as e:\n",
    "        print(e)\n",
    "\n",
    "truncateAllTables(cur)"
   ]
  }
 ],
 "metadata": {
  "kernelspec": {
   "display_name": "Python 3",
   "language": "python",
   "name": "python3"
  },
  "language_info": {
   "codemirror_mode": {
    "name": "ipython",
    "version": 3
   },
   "file_extension": ".py",
   "mimetype": "text/x-python",
   "name": "python",
   "nbconvert_exporter": "python",
   "pygments_lexer": "ipython3",
   "version": "3.11.0 (v3.11.0:deaf509e8f, Oct 24 2022, 14:43:23) [Clang 13.0.0 (clang-1300.0.29.30)]"
  },
  "orig_nbformat": 4,
  "vscode": {
   "interpreter": {
    "hash": "8a5edab282632443219e051e4ade2d1d5bbc671c781051bf1437897cbdfea0f1"
   }
  }
 },
 "nbformat": 4,
 "nbformat_minor": 2
}
